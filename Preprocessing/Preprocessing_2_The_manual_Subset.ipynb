{
 "cells": [
  {
   "cell_type": "markdown",
   "metadata": {},
   "source": [
    "#  STEP 1 : Preprocessing The manual Subset\n",
    "\n",
    "**Input :** dataset_cleaned.csv & dataset_token_cleaned.csv\n",
    "\n",
    "**Main :** Rule-based algorithm for dialogues segmentation\n",
    "\n",
    "**Output :** Solution.pkl\n"
   ]
  },
  {
   "cell_type": "code",
   "execution_count": 48,
   "metadata": {},
   "outputs": [],
   "source": [
    "import pandas as pd\n",
    "import numpy as np\n",
    "import matplotlib.pyplot as plt\n",
    "import plotly.graph_objects as go\n",
    "import plotly.express as px\n",
    "from plotly.subplots import make_subplots\n",
    "from plotly.offline import plot\n",
    "import pickle\n",
    "import os\n",
    "import time"
   ]
  },
  {
   "cell_type": "code",
   "execution_count": 49,
   "metadata": {},
   "outputs": [
    {
     "name": "stdout",
     "output_type": "stream",
     "text": [
      "---Execution time :  164.92797899246216 seconds ---\n"
     ]
    }
   ],
   "source": [
    "start_time = time.time()\n",
    "data        = pd.read_csv(\"dataset_cleaned.csv\")\n",
    "print(\"---Execution time :  %s seconds ---\" % (time.time() - start_time))"
   ]
  },
  {
   "cell_type": "code",
   "execution_count": null,
   "metadata": {},
   "outputs": [],
   "source": [
    "def Verification_ (Subset):\n",
    "    Verification = Subset[\"Size\"].value_counts().to_frame()\n",
    "    Verification[\"%\"] = Verification[\"Size\"]/(Subset.shape[0]) *100\n",
    "    Verification.sort_index(ascending=True, inplace=True)\n",
    "    Verification[\"Cumulative %\"] = Verification[\"%\"].cumsum()\n",
    "    return Verification"
   ]
  },
  {
   "cell_type": "code",
   "execution_count": null,
   "metadata": {},
   "outputs": [],
   "source": [
    "# 1. Subset            : Keep only row where  \":\" appear\n",
    "# 2. subset_full       : Get all dialogs when \":\" appear\n",
    "#    2.1  Verification : Study on \":\" \n",
    "# 3. Good              : Subset with at least two turn\n",
    "# 4. Best              : Good with sentence where \":\" appears only once\n",
    "#    4.1  Speaker      : Keep only speaker\n",
    "# 5. Best_2            : Keep only dialogues where there is at least two distict character\n",
    "# 6. Best_no_num       : Delete dialogs with  <NUM> in the speaker name\n",
    "# 7. New_data          : Keep only dialgues with speaker of lenght 1"
   ]
  },
  {
   "cell_type": "code",
   "execution_count": null,
   "metadata": {},
   "outputs": [],
   "source": [
    "##################################################################################\n",
    "\n",
    "# SUBSET\n",
    "# Creation subset with only  :  sentences\n",
    "Subset = data.loc[data[\"Text\"].str.contains(':')].copy()\n",
    "nbrs_dialog_and_sentences(Subset)\n",
    "\n",
    "##################################################################################\n",
    "\n",
    "# SUBSET_FULL\n",
    "# Get get full dialogs when : appear\n",
    "list_ndia = Subset.Num_dialog.to_list()\n",
    "subset_full = data.loc[data[\"Num_dialog\"].isin(list_ndia)].copy()\n",
    "nbrs_dialog_and_sentences(subset_full)\n",
    "# Study on : \n",
    "# Split Text with :. [John : , Hola how are you ? ] \n",
    "# Size Of the splitting : [John, Hola how are you ?] ----> size = 2\n",
    "Subset[\"test\"]=Subset.Text.str.split(pat = \":\") \n",
    "Subset[\"Size\"]=Subset[\"test\"].apply(lambda x: len(x))\n",
    "Verification_ (Subset).head(10)\n",
    "\n",
    "##################################################################################\n",
    "\n",
    "# GOOD: Only dialogues with at least two turn\n",
    "Good = Subset[Subset.duplicated(['Num_dialog'],keep=False)]\n",
    "\n",
    "##################################################################################\n",
    "\n",
    "# BEST : Keep turn with only one :\n",
    "Best = Good[Good[\"Size\"]==2].copy()\n",
    "# Keep only first part\n",
    "Best[\"caracter\"] = Best.test.apply(lambda x : x[0])\n",
    "\n",
    "##################################################################################\n",
    "\n",
    "# BEST_2\n",
    "# Keep only dialogs where there at least 2 speaker\n",
    "Step1 = Best.groupby([\"Num_dialog\"]).caracter.nunique().to_frame()\n",
    "Step2 = Step1.loc[Step1.caracter>=2].index.values.tolist()\n",
    "#Best.loc[Best.groupby([\"Num_dialog\"]).caracter.nunique().to_frame().caracter>=2]\n",
    "Best_2 = Best.loc[Best[\"Num_dialog\"].isin(Step2)]\n",
    "\n",
    "##################################################################################\n",
    "\n",
    "# BEST_NO_NUM\n",
    "# Delete dialogues with <num> in the character name\n",
    "Best_no_Num = Best_2[~Best_2.caracter.str.contains('<NUM>')].copy()\n",
    "# Ne garde pas les duplicat\n",
    "Best_no_Num=Best_no_Num[Best_no_Num.duplicated(['Num_dialog'],keep=False)]\n",
    "\n",
    "# Tokenize the character\n",
    "start_time = time.time()\n",
    "Best_no_Num[\"Token\"] = Best_no_Num[\"caracter\"].apply(nltk.word_tokenize)\n",
    "print(\"---Execution time :  %s seconds ---\" % (time.time() - start_time))\n",
    "# Mesure la taille des caracters\n",
    "Best_no_Num[\"Size_caracter\"] = Best_no_Num[\"Token\"].apply(len)\n",
    "\n",
    "##################################################################################\n",
    "\n",
    "# NEW_DATA with only one words in the character name\n",
    "New_data = Best_no_Num[Best_no_Num[\"Size_caracter\"]==1].copy()"
   ]
  },
  {
   "cell_type": "code",
   "execution_count": null,
   "metadata": {},
   "outputs": [],
   "source": [
    "# 1. Measure the # turn between two caracter \n",
    "# 2. Calculus          : Datafram for some calcul\n",
    "# 3. How many maximum row should we merge \n",
    "# 4. Take dialogs id IIF there is less than 31 turn between\n",
    "# 5. Possible solution : Inserte index list in data_clean3\n",
    "# 6. Solution          : Merge text.\n",
    "# Issue : there is still some consecutive same character\n",
    "# Issue : There is still dialogues with only one turn                   \n",
    "#7.  Solution2         : merge consecutive identical speaker\n",
    "# Keep only dialogues with at least 2 turn."
   ]
  },
  {
   "cell_type": "code",
   "execution_count": null,
   "metadata": {},
   "outputs": [],
   "source": [
    "##################################################################################\n",
    "#PART1\n",
    "# Get list index\n",
    "list_index2 = New_data.index.to_list()\n",
    "list_index2.insert(0, 0)\n",
    "pd.Series(list_index2)\n",
    "# Allow to know the number of row between two character\n",
    "list_index = New_data.index.to_list()\n",
    "list_index2 = New_data.index.to_list()\n",
    "list_index.append(0)\n",
    "list_index2.insert(0, 0)\n",
    "solution = pd.Series(list_index)-pd.Series(list_index2)\n",
    "#solution.drop(labels=solution.tail(1).index.values,inplace = True)\n",
    "solution.drop(labels=0,inplace = True)\n",
    "solution.reset_index(inplace=True, drop=True)\n",
    "New_data[\"index_sub\"]= solution.to_list()\n",
    "New_data.drop(New_data.tail(1).index,inplace=True)\n",
    "New_data.reset_index(inplace=True, drop=False)\n",
    "\n",
    "##################################################################################\n",
    "#PART2\n",
    "Calculus = New_data.drop([\"Num_dialog\",'genre','Text','Size','test','caracter','Token','Size_caracter'], axis=1).copy()\n",
    "\n",
    "##################################################################################\n",
    "#PART3\n",
    "# Permet de Voir combiend de row on doit merge au maximum\n",
    "Result = Calculus[\"index_sub\"].value_counts().sort_index().to_frame().rename_axis(\"# row\").rename(columns={0: '#Dialogs'})\n",
    "Result[\"%\"] = Result[\"index_sub\"]/ Calculus[\"index\"].nunique()*100\n",
    "Result[\"Cumulative %\"] = Result[\"%\"].cumsum()\n",
    "Result.head(30)\n",
    "\n",
    "##################################################################################\n",
    "#PART4\n",
    "# Pemermet de prendre\n",
    "start_time = time.time()\n",
    "\n",
    "Fill_index = []\n",
    "liste_1=list(zip(Calculus[\"index\"], Calculus[\"index_sub\"]))\n",
    "for i in range(Calculus.shape[0]): \n",
    "    if liste_1[i][1] <=30:\n",
    "        Fill_index = Fill_index + list(range(liste_1[i][0],liste_1[i+1][0]+1))\n",
    "        \n",
    "print(\"---Execution time :  %s seconds ---\" % (time.time() - start_time))\n",
    "\n",
    "##################################################################################\n",
    "#PART5\n",
    "Possible_solution = data.iloc[Fill_index].copy()\n",
    "# # Permet d'avoir des dialogs avec au moin deux phrase\n",
    "Possible_solution = Possible_solution.loc[~Possible_solution.index.duplicated(keep='first')]\n",
    "# Permet de savoir ou est le caracter\n",
    "Possible_solution[\"Size\"]=Possible_solution.Text.str.split(pat = \":\").apply(lambda x: len(x))\n",
    "# Permet de donner un chiffre identique quand le text appartient a un speaker\n",
    "Possible_solution.loc[(Possible_solution.Size == 2),'Size']=1\n",
    "Possible_solution.loc[(Possible_solution.Size != 2),'Size']=0\n",
    "Possible_solution[\"Size\"] = Possible_solution[\"Size\"].cumsum()\n",
    "\n",
    "##################################################################################\n",
    "#PART6\n",
    "# Ici on merge les text\n",
    "Solution = Possible_solution.groupby(['Num_dialog','Size'])['Text'].apply(' '.join).to_frame()\n",
    "# Cree une nouvelle colone avec le nom du caracter\n",
    "Solution[\"character\"]=Solution.Text.str.split(pat = \":\").apply(lambda x : x[0])\n",
    "Solution = Solution[[\"character\",\"Text\"]]\n",
    "# Met le text et le caracter de facon distinct\n",
    "Solution= Solution.Text.str.split(pat = \":\",n=1, expand=True).rename(columns={0: 'character',1: 'Text'})\n",
    "\n",
    "#---> Ici Y a des dialogs de taille 1.\n",
    "\n",
    "##################################################################################\n",
    "#PART7 : Remouving dialogs of one sentence et joindre les caratcer consecutif identique\n",
    "\n",
    "#Allow to remouve singe dialogs\n",
    "Solution2 = Solution2[Solution2.Num_dialog.duplicated(keep = False)]\n",
    "\n",
    "#Merge Dialogs with same speaker\n",
    "# permet de cree un liste de nombre en cumulative et egal si meme caracter consecutivement\n",
    "Solution2[\"Value2\"]=Solution2.ne(Solution2.shift()).character.cumsum()\n",
    "Solution2.Text.fillna(\" \",inplace=True)\n",
    "# Permet de joindre\n",
    "Solution2 = Solution2.groupby(['Value2','Num_dialog','character'])['Text'].apply(' '.join).to_frame()\n",
    "Solution2.reset_index(inplace = True)\n",
    "Solution2.drop(columns=['Value2'],inplace= True)\n",
    "# Permet de ne garder que les dilogs de taille 2 et supperieur\n",
    "Solution2 = Solution2[Solution2.Num_dialog.duplicated(keep = False)]"
   ]
  }
 ],
 "metadata": {
  "kernelspec": {
   "display_name": "Python 3.7.6 64-bit ('ada': conda)",
   "language": "python",
   "name": "python37664bitadacondad4e8acff9dfc4a1abb7cc8c80050aab0"
  },
  "language_info": {
   "codemirror_mode": {
    "name": "ipython",
    "version": 3
   },
   "file_extension": ".py",
   "mimetype": "text/x-python",
   "name": "python",
   "nbconvert_exporter": "python",
   "pygments_lexer": "ipython3",
   "version": "3.7.9"
  },
  "varInspector": {
   "cols": {
    "lenName": 16,
    "lenType": 16,
    "lenVar": 40
   },
   "kernels_config": {
    "python": {
     "delete_cmd_postfix": "",
     "delete_cmd_prefix": "del ",
     "library": "var_list.py",
     "varRefreshCmd": "print(var_dic_list())"
    },
    "r": {
     "delete_cmd_postfix": ") ",
     "delete_cmd_prefix": "rm(",
     "library": "var_list.r",
     "varRefreshCmd": "cat(var_dic_list()) "
    }
   },
   "types_to_exclude": [
    "module",
    "function",
    "builtin_function_or_method",
    "instance",
    "_Feature"
   ],
   "window_display": false
  }
 },
 "nbformat": 4,
 "nbformat_minor": 4
}
