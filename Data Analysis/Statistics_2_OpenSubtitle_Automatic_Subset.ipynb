{
 "cells": [
  {
   "cell_type": "markdown",
   "metadata": {},
   "source": [
    "# Statistics 2 : OpenSubtitle Automatic Subset\n",
    "\n",
    "**Input :** Automatic_full.csv\n",
    "\n",
    "**Main :** Extract dialogues id. Do the same step as in Manual_information notebook\n",
    "\n",
    "**Output :** Atomatic_subset.pkl & Automatic_subset_info.pkl & Automatic_subset_info_vader.pkl\n"
   ]
  },
  {
   "cell_type": "code",
   "execution_count": 19,
   "metadata": {
    "ExecuteTime": {
     "end_time": "2020-05-22T16:54:09.994423Z",
     "start_time": "2020-05-22T16:54:04.519496Z"
    }
   },
   "outputs": [],
   "source": [
    "import pandas as pd\n",
    "import numpy as np\n",
    "import matplotlib.pyplot as plt\n",
    "import pickle\n",
    "import os\n",
    "import time\n",
    "import nltk\n",
    "import vaderSentiment\n",
    "from vaderSentiment.vaderSentiment import SentimentIntensityAnalyzer\n",
    "import seaborn as sns"
   ]
  },
  {
   "cell_type": "code",
   "execution_count": 3,
   "metadata": {
    "ExecuteTime": {
     "end_time": "2020-05-22T16:54:10.214266Z",
     "start_time": "2020-05-22T16:54:10.191978Z"
    }
   },
   "outputs": [],
   "source": [
    "Emotional = ['afraid',#Fear\n",
    "            'angry',#anger\n",
    "            'annoyed',#anger\n",
    "            'anticipating',#Anticipation\n",
    "            'anxious',#Fear\n",
    "            'apprehensive',#Fear\n",
    "            'ashamed',#Disapproval\n",
    "            'caring',#love\n",
    "            'confident',#Trust\n",
    "            'content',#Joy\n",
    "            'devastated',#Sadness\n",
    "            'disappointed',#Sadness\n",
    "            'disgusted',#Disgust\n",
    "            'embarrassed',#Disapproval\n",
    "            'excited',#Joy\n",
    "            'faithful',#Submission\n",
    "            'furious',#anger\n",
    "            'grateful',#Trust\n",
    "            'guilty',#Remorse\n",
    "            'hopeful',#Anticipation\n",
    "            'impressed',#Suprise\n",
    "            'jealous',#Agressiveness\n",
    "            'joyful',#Joy\n",
    "            'lonely',#Sadness\n",
    "            'nostalgic',#Sadness\n",
    "            'prepared',#Anticipation\n",
    "            'proud',#Optimism\n",
    "            'sad',#Sadness\n",
    "            'sentimental',#Sadness\n",
    "            'surprised',#Suprise\n",
    "            'terrified',#Fear\n",
    "            'trusting']#Trust\n",
    "neutral = [ 'agreeing', # neutral\n",
    "            'acknowledging', # neutral \n",
    "            'encouraging', # neutral \n",
    "            'consoling', # neutral \n",
    "            'sympathizing', # neutral \n",
    "            'suggesting', # neutral \n",
    "            'questioning', # neutral \n",
    "            'wishing', # neutral\n",
    "            'neutral']\n",
    "neutral_num   = [\"32\",\"33\",\"34\",\"35\",\"36\",\"37\",\"38\",\"39\",\"40\"]\n",
    "Emotional_num = [\"0\",\"1\",\"2\",\"3\",\"4\",\"5\",\"6\",\"7\",\"8\",\"9\",\"10\",\"11\",\"12\",\"13\",\"14\",\"15\",\"16\",\"17\",\"18\",\"19\",\"20\",\"21\",\"22\",\"23\",\"24\",\"25\",\"26\",\"27\",\"28\",\"29\",\"30\",\"31\"]\n",
    "\n",
    "# Array type of the labels\n",
    "labels = np.array(['afraid',#Fear\n",
    "            'angry',#anger\n",
    "            'annoyed',#anger\n",
    "            'anticipating',#Anticipation\n",
    "            'anxious',#Fear\n",
    "            'apprehensive',#Fear\n",
    "            'ashamed',#Disapproval\n",
    "            'caring',#love\n",
    "            'confident',#Trust\n",
    "            'content',#Joy\n",
    "            'devastated',#Sadness\n",
    "            'disappointed',#Sadness\n",
    "            'disgusted',#Disgust\n",
    "            'embarrassed',#Disapproval\n",
    "            'excited',#Joy\n",
    "            'faithful',#Submission\n",
    "            'furious',#anger\n",
    "            'grateful',#Trust\n",
    "            'guilty',#Remorse\n",
    "            'hopeful',#Anticipation\n",
    "            'impressed',#Suprise\n",
    "            'jealous',#Agressiveness\n",
    "            'joyful',#Joy\n",
    "            'lonely',#Sadness\n",
    "            'nostalgic',#Sadness\n",
    "            'prepared',#Anticipation\n",
    "            'proud',#Optimism\n",
    "            'sad',#Sadness\n",
    "            'sentimental',#Sadness\n",
    "            'surprised',#Suprise\n",
    "            'terrified',#Fear\n",
    "            'trusting',#Trust\n",
    "            'agreeing', # neutral\n",
    "            'acknowledging', # neutral \n",
    "            'encouraging', # neutral \n",
    "            'consoling', # neutral \n",
    "            'sympathizing', # neutral \n",
    "            'suggesting', # neutral \n",
    "            'questioning', # neutral \n",
    "            'wishing', # neutral\n",
    "            'neutral']) # neutral \n",
    "# MAPPING in array type \n",
    "plutchik = np.array(['Fear',\n",
    "            'anger',\n",
    "            'anger',\n",
    "            'Anticipation',\n",
    "            'Fear',\n",
    "            'Fear',\n",
    "            'Disapproval',\n",
    "            'love',\n",
    "            'Trust',\n",
    "            'Joy',\n",
    "            'Sadness',\n",
    "            'Sadness',\n",
    "            'Disgust',\n",
    "            'Disapproval',\n",
    "            'Joy',\n",
    "            'Submission',\n",
    "            'anger',\n",
    "            'Trust',\n",
    "            'Remorse',\n",
    "            'Anticipation',\n",
    "            'Suprise',\n",
    "            'Agressiveness',\n",
    "            'Joy',\n",
    "            'Sadness',\n",
    "            'Sadness',\n",
    "            'Anticipation',\n",
    "            'Optimism',\n",
    "            'Sadness',\n",
    "            'Sadness',\n",
    "            'Suprise',\n",
    "            'Fear',\n",
    "            'trust',\n",
    "            'neutral',\n",
    "            'neutral', \n",
    "            'neutral', \n",
    "            'neutral', \n",
    "            'neutral', \n",
    "            'neutral', \n",
    "            'neutral', \n",
    "            'neutral',\n",
    "            'neutral']) # neutral \n",
    "Column_Emo = [\"0\",\"1\",\"2\",\"3\",\"4\",\"5\",\"6\",\"7\",\"8\",\"9\",\"10\",\"11\",\"12\",\"13\",\"14\",\"15\",\"16\",\"17\",\"18\",\"19\",\"20\",\"21\",\"22\",\"23\",\"24\",\"25\",\"26\",\"27\",\"28\",\"29\",\"30\",\"31\",\"32\",\"33\",\"34\",\"35\",\"36\",\"37\",\"38\",\"39\",\"40\"]"
   ]
  },
  {
   "cell_type": "code",
   "execution_count": null,
   "metadata": {},
   "outputs": [],
   "source": [
    "# Read Automatic data set\n",
    "data_TA= pd.read_csv(r\"Automatic_full.csv\", usecols = [1,2,5,8,9,10,11,12,13,14,15,16,17,18,19,20,21,22,23,24,25,26,27,28,29,30,31,32,33,34,35,36,37,38,39,40,41,42,43,44,45,46,47,48]) \n",
    "\n",
    "# Read Manual subset\n",
    "Solution = pd.read_pickle(\"Manual_subset.pkl\")"
   ]
  },
  {
   "cell_type": "code",
   "execution_count": 11,
   "metadata": {
    "ExecuteTime": {
     "end_time": "2020-05-22T12:09:53.136606Z",
     "start_time": "2020-05-22T12:09:52.597340Z"
    }
   },
   "outputs": [],
   "source": [
    "# Match Id_index\n",
    "l1  = Solution.Num_dialog.unique().tolist()\n",
    "data_TA = data_TA[data_TA[\"dialogue_id\"].isin (l1)]"
   ]
  },
  {
   "cell_type": "code",
   "execution_count": null,
   "metadata": {},
   "outputs": [],
   "source": [
    "# Force type\n",
    "data_TA[\"text\"] = data_TA.text.astype(str)\n",
    "# Get the token of each sentences in extra column\n",
    "data_TA[\"Token\"] = data_TA[\"text\"].apply(nltk.word_tokenize)\n",
    "# Get the lenght of each sentences in extra column\n",
    "data_TA[\"Size\"] = data_TA[\"Token\"].apply(len)\n",
    "# Drop Useless Column\n",
    "data_TA.drop(columns=['Token'], inplace=True)\n",
    "data_TA.drop(columns=['text'], inplace=True)\n",
    "data_TA.drop(columns=['turn'], inplace=True)\n",
    "# Creat an extra row that will be used for the number of turn\n",
    "data_TA[\"Nbr_Row\"] = 1\n",
    "# Groupby id\n",
    "result = data_TA.groupby([\"dialogue_id\"]).mean().copy()\n",
    "# Get number of turn per dialog\n",
    "result[\"Nbr_Row\"] = data_TA.groupby([\"dialogue_id\"]).Nbr_Row.sum().copy()\n",
    "# Get prominent Category\n",
    "result[\"Prominent_score\"] = result[Column_Emo].max(axis=1)\n",
    "result[\"Prominent_EmoBert\"] =result[Column_Emo].idxmax(axis=1)\n",
    "result[\"Prominent_EmoBert\"] = result.Prominent_EmoBert.astype(int)\n",
    "result[\"Prominent_EmoBert\"] = result[\"Prominent_EmoBert\"].apply(lambda x : labels[x])\n",
    "\n",
    "\n",
    "# Get prominent plutchik \n",
    "result[\"Prominent_Plutchik\"] = result.Prominent_EmoBert.apply(lambda x : plutchik[labels.tolist().index(x)])\n",
    "#Neutrality score\n",
    "result[\"Neutrality_score\"] = result[neutral_num ].sum(axis=1)\n",
    "#Emotionality score\n",
    "result[\"Emotionality_score\"] = result[Emotional_num].sum(axis=1)\n",
    "# Drop Useless column\n",
    "result.drop(columns=Column_Emo, inplace =True)"
   ]
  },
  {
   "cell_type": "code",
   "execution_count": null,
   "metadata": {},
   "outputs": [],
   "source": [
    "#Pickle\n",
    "result.to_pickle(\"Automatic_subset_info.pkl\")"
   ]
  },
  {
   "cell_type": "markdown",
   "metadata": {},
   "source": [
    "# Build Vader"
   ]
  },
  {
   "cell_type": "code",
   "execution_count": null,
   "metadata": {},
   "outputs": [],
   "source": [
    "data_TA = pd.read_pickle(\"Automatic_subset.pkl\")"
   ]
  },
  {
   "cell_type": "code",
   "execution_count": 13,
   "metadata": {},
   "outputs": [],
   "source": [
    "data_TA = data_TA[[\"dialogue_id\",\"text\"]]"
   ]
  },
  {
   "cell_type": "code",
   "execution_count": 16,
   "metadata": {},
   "outputs": [
    {
     "name": "stderr",
     "output_type": "stream",
     "text": [
      "C:\\Users\\stan\\AppData\\Local\\Continuum\\anaconda3\\envs\\ada\\lib\\site-packages\\ipykernel_launcher.py:1: SettingWithCopyWarning:\n",
      "\n",
      "\n",
      "A value is trying to be set on a copy of a slice from a DataFrame.\n",
      "Try using .loc[row_indexer,col_indexer] = value instead\n",
      "\n",
      "See the caveats in the documentation: http://pandas.pydata.org/pandas-docs/stable/user_guide/indexing.html#returning-a-view-versus-a-copy\n",
      "\n"
     ]
    },
    {
     "data": {
      "text/html": [
       "<div>\n",
       "<style scoped>\n",
       "    .dataframe tbody tr th:only-of-type {\n",
       "        vertical-align: middle;\n",
       "    }\n",
       "\n",
       "    .dataframe tbody tr th {\n",
       "        vertical-align: top;\n",
       "    }\n",
       "\n",
       "    .dataframe thead th {\n",
       "        text-align: right;\n",
       "    }\n",
       "</style>\n",
       "<table border=\"1\" class=\"dataframe\">\n",
       "  <thead>\n",
       "    <tr style=\"text-align: right;\">\n",
       "      <th></th>\n",
       "      <th>dialogue_id</th>\n",
       "      <th>text</th>\n",
       "    </tr>\n",
       "  </thead>\n",
       "  <tbody>\n",
       "    <tr>\n",
       "      <th>2438</th>\n",
       "      <td>489</td>\n",
       "      <td>_   Kove :  Trent , report .</td>\n",
       "    </tr>\n",
       "    <tr>\n",
       "      <th>2439</th>\n",
       "      <td>489</td>\n",
       "      <td>Have you taken out the target ?</td>\n",
       "    </tr>\n",
       "    <tr>\n",
       "      <th>2440</th>\n",
       "      <td>489</td>\n",
       "      <td>Trent :  Negative .  He 's got your burn book...</td>\n",
       "    </tr>\n",
       "    <tr>\n",
       "      <th>2441</th>\n",
       "      <td>489</td>\n",
       "      <td>If that gets into the wrong hands-  Kove :  Y...</td>\n",
       "    </tr>\n",
       "    <tr>\n",
       "      <th>2442</th>\n",
       "      <td>489</td>\n",
       "      <td>Alphonse , do you have a shot ?</td>\n",
       "    </tr>\n",
       "    <tr>\n",
       "      <th>...</th>\n",
       "      <td>...</td>\n",
       "      <td>...</td>\n",
       "    </tr>\n",
       "    <tr>\n",
       "      <th>52808179</th>\n",
       "      <td>8819128</td>\n",
       "      <td>Good point .  I 'll just go check on him .</td>\n",
       "    </tr>\n",
       "    <tr>\n",
       "      <th>52808180</th>\n",
       "      <td>8819129</td>\n",
       "      <td>ROZ :  It 's weird .</td>\n",
       "    </tr>\n",
       "    <tr>\n",
       "      <th>52808181</th>\n",
       "      <td>8819129</td>\n",
       "      <td>My skin tastes kinda salty .  BULLDOG :  Oh ,...</td>\n",
       "    </tr>\n",
       "    <tr>\n",
       "      <th>52808182</th>\n",
       "      <td>8819129</td>\n",
       "      <td>That wasn 't me , Bulldog .</td>\n",
       "    </tr>\n",
       "    <tr>\n",
       "      <th>52808183</th>\n",
       "      <td>8819129</td>\n",
       "      <td>GIL :  That was me you licked , and if it hap...</td>\n",
       "    </tr>\n",
       "  </tbody>\n",
       "</table>\n",
       "<p>835948 rows × 2 columns</p>\n",
       "</div>"
      ],
      "text/plain": [
       "          dialogue_id                                               text\n",
       "2438              489                       _   Kove :  Trent , report .\n",
       "2439              489                    Have you taken out the target ?\n",
       "2440              489   Trent :  Negative .  He 's got your burn book...\n",
       "2441              489   If that gets into the wrong hands-  Kove :  Y...\n",
       "2442              489                    Alphonse , do you have a shot ?\n",
       "...               ...                                                ...\n",
       "52808179      8819128         Good point .  I 'll just go check on him .\n",
       "52808180      8819129                               ROZ :  It 's weird .\n",
       "52808181      8819129   My skin tastes kinda salty .  BULLDOG :  Oh ,...\n",
       "52808182      8819129                        That wasn 't me , Bulldog .\n",
       "52808183      8819129   GIL :  That was me you licked , and if it hap...\n",
       "\n",
       "[835948 rows x 2 columns]"
      ]
     },
     "execution_count": 16,
     "metadata": {},
     "output_type": "execute_result"
    }
   ],
   "source": [
    "data_TA[\"text\"] = data_TA.text.astype(str)\n",
    "data_TA"
   ]
  },
  {
   "cell_type": "code",
   "execution_count": null,
   "metadata": {},
   "outputs": [],
   "source": [
    "data_TA[\"text\"] = data_TA.text.apply(lambda x : x.strip())\n",
    "# Vader Analyse\n",
    "analyzer = SentimentIntensityAnalyzer()\n",
    "data_TA[\"Vader\"] = data_TA.text.apply(lambda x: analyzer.polarity_scores(x)['compound'])\n",
    "# Drop useless column\n",
    "data_TA.drop(columns=['text'], inplace=True)\n",
    "# Get the mean vader score per dialog\n",
    "Vader = data_TA.groupby([\"dialogue_id\"]).mean().copy()"
   ]
  },
  {
   "cell_type": "code",
   "execution_count": null,
   "metadata": {},
   "outputs": [],
   "source": [
    "result2 =  pd.read_pickle(\"Automatic_subset_info.pkl\")\n",
    "result2[\"Vader\"]= Vader\n",
    "# Information with vader\n",
    "result2.to_pickle(\"Automatic_subset_info_vader.pkl\")"
   ]
  }
 ],
 "metadata": {
  "kernelspec": {
   "display_name": "Python 3.7.6 64-bit ('ada': conda)",
   "language": "python",
   "name": "python37664bitadacondad4e8acff9dfc4a1abb7cc8c80050aab0"
  },
  "language_info": {
   "codemirror_mode": {
    "name": "ipython",
    "version": 3
   },
   "file_extension": ".py",
   "mimetype": "text/x-python",
   "name": "python",
   "nbconvert_exporter": "python",
   "pygments_lexer": "ipython3",
   "version": "3.7.9"
  },
  "varInspector": {
   "cols": {
    "lenName": 16,
    "lenType": 16,
    "lenVar": 40
   },
   "kernels_config": {
    "python": {
     "delete_cmd_postfix": "",
     "delete_cmd_prefix": "del ",
     "library": "var_list.py",
     "varRefreshCmd": "print(var_dic_list())"
    },
    "r": {
     "delete_cmd_postfix": ") ",
     "delete_cmd_prefix": "rm(",
     "library": "var_list.r",
     "varRefreshCmd": "cat(var_dic_list()) "
    }
   },
   "types_to_exclude": [
    "module",
    "function",
    "builtin_function_or_method",
    "instance",
    "_Feature"
   ],
   "window_display": false
  }
 },
 "nbformat": 4,
 "nbformat_minor": 4
}
