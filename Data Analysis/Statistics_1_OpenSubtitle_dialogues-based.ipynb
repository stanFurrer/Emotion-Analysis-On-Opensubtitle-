{
 "cells": [
  {
   "cell_type": "markdown",
   "metadata": {},
   "source": [
    "# Statistics 1 : OpenSubtitle dialogues-based\n",
    "\n",
    "**Input :** dataset_cleaned.csv & dataset_token_cleaned.csv\n",
    "\n",
    "**Main :** Basics statistics on the dialogues-based structure\n",
    "\n"
   ]
  },
  {
   "cell_type": "code",
   "execution_count": 18,
   "metadata": {},
   "outputs": [],
   "source": [
    "import pandas as pd\n",
    "import numpy as np\n",
    "import matplotlib.pyplot as plt\n",
    "import plotly.graph_objects as go\n",
    "import plotly.express as px\n",
    "from plotly.subplots import make_subplots\n",
    "from plotly.offline import plot\n",
    "import time\n",
    "import pickle\n",
    "import nltk"
   ]
  },
  {
   "cell_type": "code",
   "execution_count": 19,
   "metadata": {},
   "outputs": [
    {
     "name": "stdout",
     "output_type": "stream",
     "text": [
      "---Execution time :  91.32977414131165 seconds ---\n"
     ]
    }
   ],
   "source": [
    "data        = pd.read_csv(\"dataset_cleaned.csv\")\n",
    "data_words  = pd.read_csv('dataset_token_cleaned.csv')"
   ]
  },
  {
   "cell_type": "code",
   "execution_count": 21,
   "metadata": {},
   "outputs": [],
   "source": [
    "# Replace NAN per _ \n",
    "data.Text.fillna(\" \",inplace=True)"
   ]
  },
  {
   "cell_type": "markdown",
   "metadata": {},
   "source": [
    "## Part 1. Global Information dataset :"
   ]
  },
  {
   "cell_type": "code",
   "execution_count": 4,
   "metadata": {},
   "outputs": [
    {
     "name": "stdout",
     "output_type": "stream",
     "text": [
      "Number of Dialog: 8820645\n",
      "Number of sentences: 119666109\n"
     ]
    }
   ],
   "source": [
    "# Number of dialog\n",
    "print(\"Number of Dialog:\",  data['Num_dialog'].iloc[-1])\n",
    "# Total number of sentences\n",
    "print(\"Number of sentences:\",  data.shape[0] )"
   ]
  },
  {
   "cell_type": "code",
   "execution_count": 21,
   "metadata": {},
   "outputs": [],
   "source": [
    "# Replace NAN per _ \n",
    "data.Text.fillna(\" \",inplace=True)"
   ]
  },
  {
   "cell_type": "code",
   "execution_count": 22,
   "metadata": {},
   "outputs": [],
   "source": [
    "#number of sentences for each dialogs\n",
    "Result1 = data[\"Num_dialog\"].value_counts().value_counts().sort_index().to_frame().rename_axis(\"# sentences\").rename(columns={0: '#Dialogs'})\n",
    "# Doing one more value_count will give the expected result\n",
    "Result1[\"%\"] = Result1[\"Num_dialog\"]/data['Num_dialog'].iloc[-1] *100\n",
    "Result1[\"Cumulative %\"] = Result1[\"%\"].cumsum()\n",
    "Result1.drop([\"%\"], axis=1, inplace = True)\n",
    "#To get the cumulative\n",
    "#cumsum = Result[\"%\"].cumsum()\n"
   ]
  },
  {
   "cell_type": "code",
   "execution_count": 26,
   "metadata": {},
   "outputs": [
    {
     "data": {
      "text/html": [
       "<div>\n",
       "<style scoped>\n",
       "    .dataframe tbody tr th:only-of-type {\n",
       "        vertical-align: middle;\n",
       "    }\n",
       "\n",
       "    .dataframe tbody tr th {\n",
       "        vertical-align: top;\n",
       "    }\n",
       "\n",
       "    .dataframe thead th {\n",
       "        text-align: right;\n",
       "    }\n",
       "</style>\n",
       "<table border=\"1\" class=\"dataframe\">\n",
       "  <thead>\n",
       "    <tr style=\"text-align: right;\">\n",
       "      <th></th>\n",
       "      <th>Num_dialog</th>\n",
       "      <th>Cumulative %</th>\n",
       "    </tr>\n",
       "    <tr>\n",
       "      <th># sentences</th>\n",
       "      <th></th>\n",
       "      <th></th>\n",
       "    </tr>\n",
       "  </thead>\n",
       "  <tbody>\n",
       "    <tr>\n",
       "      <th>1</th>\n",
       "      <td>1543823</td>\n",
       "      <td>17.502382</td>\n",
       "    </tr>\n",
       "    <tr>\n",
       "      <th>2</th>\n",
       "      <td>1051345</td>\n",
       "      <td>29.421522</td>\n",
       "    </tr>\n",
       "    <tr>\n",
       "      <th>3</th>\n",
       "      <td>715138</td>\n",
       "      <td>37.529070</td>\n",
       "    </tr>\n",
       "    <tr>\n",
       "      <th>4</th>\n",
       "      <td>557098</td>\n",
       "      <td>43.844912</td>\n",
       "    </tr>\n",
       "    <tr>\n",
       "      <th>5</th>\n",
       "      <td>444603</td>\n",
       "      <td>48.885393</td>\n",
       "    </tr>\n",
       "    <tr>\n",
       "      <th>...</th>\n",
       "      <td>...</td>\n",
       "      <td>...</td>\n",
       "    </tr>\n",
       "    <tr>\n",
       "      <th>5630</th>\n",
       "      <td>1</td>\n",
       "      <td>99.999943</td>\n",
       "    </tr>\n",
       "    <tr>\n",
       "      <th>5678</th>\n",
       "      <td>1</td>\n",
       "      <td>99.999955</td>\n",
       "    </tr>\n",
       "    <tr>\n",
       "      <th>5690</th>\n",
       "      <td>1</td>\n",
       "      <td>99.999966</td>\n",
       "    </tr>\n",
       "    <tr>\n",
       "      <th>5944</th>\n",
       "      <td>1</td>\n",
       "      <td>99.999977</td>\n",
       "    </tr>\n",
       "    <tr>\n",
       "      <th>6090</th>\n",
       "      <td>1</td>\n",
       "      <td>99.999989</td>\n",
       "    </tr>\n",
       "  </tbody>\n",
       "</table>\n",
       "<p>1021 rows × 2 columns</p>\n",
       "</div>"
      ],
      "text/plain": [
       "             Num_dialog  Cumulative %\n",
       "# sentences                          \n",
       "1               1543823     17.502382\n",
       "2               1051345     29.421522\n",
       "3                715138     37.529070\n",
       "4                557098     43.844912\n",
       "5                444603     48.885393\n",
       "...                 ...           ...\n",
       "5630                  1     99.999943\n",
       "5678                  1     99.999955\n",
       "5690                  1     99.999966\n",
       "5944                  1     99.999977\n",
       "6090                  1     99.999989\n",
       "\n",
       "[1021 rows x 2 columns]"
      ]
     },
     "execution_count": 26,
     "metadata": {},
     "output_type": "execute_result"
    }
   ],
   "source": [
    "Result1.head(-1)"
   ]
  },
  {
   "cell_type": "code",
   "execution_count": 17,
   "metadata": {},
   "outputs": [
    {
     "name": "stdout",
     "output_type": "stream",
     "text": [
      "Total Number of sentences :  8820645.0\n",
      "Average Number of sentences per dialogs:  13.566593939558842\n",
      "Standard deviation of sentences per dialogs:  25.509508961344476\n",
      "Min number of sentences in a dialogs: 1.0\n",
      "Max number of sentences in a dialogs: 8334.0\n"
     ]
    }
   ],
   "source": [
    "# Mean sentences. Max number of sentences\n",
    "print( \"Total Number of dialogs : \", Info[0])\n",
    "print( \"Average Number of sentences per dialogs: \", Info[1])\n",
    "print( \"Standard deviation of sentences per dialogs: \", Info[2])\n",
    "print(\"Min number of sentences in a dialogs:\",Info[3])\n",
    "print(\"Max number of sentences in a dialogs:\",Info[7])"
   ]
  },
  {
   "cell_type": "code",
   "execution_count": 37,
   "metadata": {},
   "outputs": [
    {
     "name": "stdout",
     "output_type": "stream",
     "text": [
      "Dialogs from 1 to 20 sentences represent  81.06093148516918  % of the all corpus\n"
     ]
    }
   ],
   "source": [
    "print(\"Dialogs from 1 to 20 sentences represent \",Result1[\"Cumulative %\"][20],\" % of the all corpus\")"
   ]
  },
  {
   "cell_type": "code",
   "execution_count": 31,
   "metadata": {},
   "outputs": [
    {
     "data": {
      "image/png": "[encoded data removed]",
      "text/plain": [
       "<Figure size 720x432 with 1 Axes>"
      ]
     },
     "metadata": {
      "needs_background": "light"
     },
     "output_type": "display_data"
    }
   ],
   "source": [
    "fig, ax = plt.subplots(figsize=(10, 6))\n",
    "ax.plot(Result1[\"Cumulative %\"][0:100])\n",
    "\n",
    "ax.set(xlabel='#Sentences in a dialogs', ylabel='Cumulative Sum %',\n",
    "       title='Cumulative function : #Sentences in dialogs')\n",
    "ax.grid()"
   ]
  },
  {
   "cell_type": "code",
   "execution_count": 40,
   "metadata": {
    "scrolled": true
   },
   "outputs": [
    {
     "data": {
      "image/png": "[encoded data removed]",
      "text/plain": [
       "<Figure size 720x432 with 1 Axes>"
      ]
     },
     "metadata": {
      "needs_background": "light"
     },
     "output_type": "display_data"
    }
   ],
   "source": [
    "Sentences= Result1.index.values.tolist()\n",
    "fig,ax = plt.subplots(figsize=(10, 6))\n",
    "\n",
    "plt.bar(Sentences,Result1[\"Num_dialog\"])\n",
    "\n",
    "ax.set_yscale('log')\n",
    "plt.xlabel('# sentence')\n",
    "plt.ylabel('# dialog')\n",
    "plt.title('# Sentence in dialog in log Scale')\n",
    "plt.show()"
   ]
  },
  {
   "cell_type": "code",
   "execution_count": 41,
   "metadata": {},
   "outputs": [
    {
     "data": {
      "image/png": "[encoded data removed]",
      "text/plain": [
       "<Figure size 720x432 with 1 Axes>"
      ]
     },
     "metadata": {
      "needs_background": "light"
     },
     "output_type": "display_data"
    }
   ],
   "source": [
    "Sentences= Result1.index.values.tolist()\n",
    "fig,ax = plt.subplots(figsize=(10, 6))\n",
    "\n",
    "plt.bar(Sentences[0:200],Result1[\"Num_dialog\"][0:200])\n",
    "\n",
    "ax.set_yscale('log')\n",
    "plt.xlabel('# sentence')\n",
    "plt.ylabel('# dialog')\n",
    "plt.title('# Sentence in dialog in log Scale')\n",
    "plt.show()"
   ]
  },
  {
   "cell_type": "markdown",
   "metadata": {},
   "source": [
    "## Part 2. Turn lenght Analysis"
   ]
  },
  {
   "cell_type": "code",
   "execution_count": 62,
   "metadata": {},
   "outputs": [],
   "source": [
    "data_words.Size.replace(0, 1, inplace = True)"
   ]
  },
  {
   "cell_type": "code",
   "execution_count": 63,
   "metadata": {},
   "outputs": [],
   "source": [
    "Result2 = data_words[\"Size\"].value_counts().sort_index().to_frame().rename_axis(\"#Words\").rename(columns={\"Size\": '#Sentences'})"
   ]
  },
  {
   "cell_type": "code",
   "execution_count": 65,
   "metadata": {},
   "outputs": [
    {
     "data": {
      "text/html": [
       "<div>\n",
       "<style scoped>\n",
       "    .dataframe tbody tr th:only-of-type {\n",
       "        vertical-align: middle;\n",
       "    }\n",
       "\n",
       "    .dataframe tbody tr th {\n",
       "        vertical-align: top;\n",
       "    }\n",
       "\n",
       "    .dataframe thead th {\n",
       "        text-align: right;\n",
       "    }\n",
       "</style>\n",
       "<table border=\"1\" class=\"dataframe\">\n",
       "  <thead>\n",
       "    <tr style=\"text-align: right;\">\n",
       "      <th></th>\n",
       "      <th>#Sentences</th>\n",
       "      <th>Cumulative %</th>\n",
       "    </tr>\n",
       "    <tr>\n",
       "      <th>#Words</th>\n",
       "      <th></th>\n",
       "      <th></th>\n",
       "    </tr>\n",
       "  </thead>\n",
       "  <tbody>\n",
       "    <tr>\n",
       "      <th>1</th>\n",
       "      <td>1785196</td>\n",
       "      <td>1.491814</td>\n",
       "    </tr>\n",
       "    <tr>\n",
       "      <th>2</th>\n",
       "      <td>14378015</td>\n",
       "      <td>13.506925</td>\n",
       "    </tr>\n",
       "    <tr>\n",
       "      <th>3</th>\n",
       "      <td>8846070</td>\n",
       "      <td>20.899218</td>\n",
       "    </tr>\n",
       "    <tr>\n",
       "      <th>4</th>\n",
       "      <td>12702821</td>\n",
       "      <td>31.514438</td>\n",
       "    </tr>\n",
       "    <tr>\n",
       "      <th>5</th>\n",
       "      <td>13115421</td>\n",
       "      <td>42.474451</td>\n",
       "    </tr>\n",
       "    <tr>\n",
       "      <th>...</th>\n",
       "      <td>...</td>\n",
       "      <td>...</td>\n",
       "    </tr>\n",
       "    <tr>\n",
       "      <th>492</th>\n",
       "      <td>1</td>\n",
       "      <td>99.999995</td>\n",
       "    </tr>\n",
       "    <tr>\n",
       "      <th>586</th>\n",
       "      <td>1</td>\n",
       "      <td>99.999996</td>\n",
       "    </tr>\n",
       "    <tr>\n",
       "      <th>598</th>\n",
       "      <td>1</td>\n",
       "      <td>99.999997</td>\n",
       "    </tr>\n",
       "    <tr>\n",
       "      <th>754</th>\n",
       "      <td>3</td>\n",
       "      <td>99.999999</td>\n",
       "    </tr>\n",
       "    <tr>\n",
       "      <th>1090</th>\n",
       "      <td>1</td>\n",
       "      <td>100.000000</td>\n",
       "    </tr>\n",
       "  </tbody>\n",
       "</table>\n",
       "<p>167 rows × 2 columns</p>\n",
       "</div>"
      ],
      "text/plain": [
       "        #Sentences  Cumulative %\n",
       "#Words                          \n",
       "1          1785196      1.491814\n",
       "2         14378015     13.506925\n",
       "3          8846070     20.899218\n",
       "4         12702821     31.514438\n",
       "5         13115421     42.474451\n",
       "...            ...           ...\n",
       "492              1     99.999995\n",
       "586              1     99.999996\n",
       "598              1     99.999997\n",
       "754              3     99.999999\n",
       "1090             1    100.000000\n",
       "\n",
       "[167 rows x 2 columns]"
      ]
     },
     "execution_count": 65,
     "metadata": {},
     "output_type": "execute_result"
    }
   ],
   "source": [
    "Result2[\"%\"] = Result2[\"#Sentences\"]/data.shape[0]*100\n",
    "Result2[\"Cumulative %\"] = Result2[\"%\"].cumsum()\n",
    "Result2.drop([\"%\"], axis=1, inplace = True)\n",
    "Result2"
   ]
  },
  {
   "cell_type": "code",
   "execution_count": 32,
   "metadata": {},
   "outputs": [],
   "source": [
    "Info2=data_words.Size.describe()"
   ]
  },
  {
   "cell_type": "code",
   "execution_count": 33,
   "metadata": {},
   "outputs": [
    {
     "name": "stdout",
     "output_type": "stream",
     "text": [
      "Total Number of words :  119666109.0\n",
      "Average Number of words per sentences:  7.353662965677275\n",
      "Standard deviation of #words per sentences:  5.192873947083736\n",
      "Min number of words in a sentence: 0.0\n",
      "Max number of words in a sentences: 1090.0\n"
     ]
    }
   ],
   "source": [
    "print( \"Total Number of words : \", Info2[0])\n",
    "print( \"Average Number of words per sentences: \", Info2[1])\n",
    "print( \"Standard deviation of #words per sentences: \", Info2[2])\n",
    "print(\"Min number of words in a sentence:\",Info2[3])\n",
    "print(\"Max number of words in a sentences:\",Info2[7])"
   ]
  },
  {
   "cell_type": "code",
   "execution_count": 70,
   "metadata": {},
   "outputs": [
    {
     "name": "stdout",
     "output_type": "stream",
     "text": [
      "sentences from 1 to 29 words represent  99.401889134709  % of the all corpus\n"
     ]
    }
   ],
   "source": [
    "print(\"sentences from 1 to 29 words represent \",Result2[\"Cumulative %\"][29],\" % of the all corpus\")"
   ]
  },
  {
   "cell_type": "code",
   "execution_count": 71,
   "metadata": {
    "scrolled": true
   },
   "outputs": [
    {
     "data": {
      "image/png": "[encoded data removed]",
      "text/plain": [
       "<Figure size 720x432 with 1 Axes>"
      ]
     },
     "metadata": {
      "needs_background": "light"
     },
     "output_type": "display_data"
    }
   ],
   "source": [
    "fig, ax = plt.subplots(figsize=(10, 6))\n",
    "ax.plot(Result2[\"Cumulative %\"][0:100])\n",
    "\n",
    "ax.set(xlabel='#Words in a sentences', ylabel='Cumulative Sum %',\n",
    "       title='Cumulative function : #words in Sentences')\n",
    "ax.grid()"
   ]
  },
  {
   "cell_type": "code",
   "execution_count": 72,
   "metadata": {},
   "outputs": [
    {
     "data": {
      "image/png": "[encoded data removed]",
      "text/plain": [
       "<Figure size 1440x432 with 1 Axes>"
      ]
     },
     "metadata": {
      "needs_background": "light"
     },
     "output_type": "display_data"
    }
   ],
   "source": [
    "Words= Result2.index.values.tolist()\n",
    "fig,ax = plt.subplots(figsize=(20, 6))\n",
    "\n",
    "plt.bar(Words,Result2[\"#Sentences\"])\n",
    "\n",
    "ax.set_yscale('log')\n",
    "plt.xlabel('# Words')\n",
    "plt.ylabel('# Sentences')\n",
    "plt.title('# sentence that contain #Words')\n",
    "plt.show()"
   ]
  },
  {
   "cell_type": "code",
   "execution_count": 74,
   "metadata": {},
   "outputs": [
    {
     "data": {
      "image/png": "[encoded data removed]",
      "text/plain": [
       "<Figure size 1440x432 with 1 Axes>"
      ]
     },
     "metadata": {
      "needs_background": "light"
     },
     "output_type": "display_data"
    }
   ],
   "source": [
    "Words= Result2.index.values.tolist()\n",
    "fig,ax = plt.subplots(figsize=(20, 6))\n",
    "\n",
    "plt.bar(Words[0:29],Result2[\"#Sentences\"][0:29])\n",
    "\n",
    "ax.set_yscale('log')\n",
    "plt.xlabel('# Words')\n",
    "plt.ylabel('# Sentences')\n",
    "plt.title('# sentence that contain #Words')\n",
    "plt.show()"
   ]
  }
 ],
 "metadata": {
  "kernelspec": {
   "display_name": "Python 3.7.6 64-bit ('ada': conda)",
   "language": "python",
   "name": "python37664bitadacondad4e8acff9dfc4a1abb7cc8c80050aab0"
  },
  "language_info": {
   "codemirror_mode": {
    "name": "ipython",
    "version": 3
   },
   "file_extension": ".py",
   "mimetype": "text/x-python",
   "name": "python",
   "nbconvert_exporter": "python",
   "pygments_lexer": "ipython3",
   "version": "3.7.9"
  },
  "varInspector": {
   "cols": {
    "lenName": 16,
    "lenType": 16,
    "lenVar": 40
   },
   "kernels_config": {
    "python": {
     "delete_cmd_postfix": "",
     "delete_cmd_prefix": "del ",
     "library": "var_list.py",
     "varRefreshCmd": "print(var_dic_list())"
    },
    "r": {
     "delete_cmd_postfix": ") ",
     "delete_cmd_prefix": "rm(",
     "library": "var_list.r",
     "varRefreshCmd": "cat(var_dic_list()) "
    }
   },
   "types_to_exclude": [
    "module",
    "function",
    "builtin_function_or_method",
    "instance",
    "_Feature"
   ],
   "window_display": false
  }
 },
 "nbformat": 4,
 "nbformat_minor": 4
}
